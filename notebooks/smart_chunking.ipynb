{
 "cells": [
  {
   "cell_type": "markdown",
   "metadata": {},
   "source": [
    "**Smart Chunking for Confluence-Based Knowledge Retrieval**\n",
    "\n",
    "**Introduction**\n",
    "\n",
    "This project focuses on enhancing the knowledge retrieval system for Confluence pages by dynamically adapting the chunk size based on document characteristics. The primary goal is to improve retrieval accuracy and efficiency while optimizing Large Language Model (LLM) usage costs. While the chunking strategy has been modified, the embedding and indexing processes remain unchanged, using the default configurations of the `AzureCosmosDBVectorSearch` class."
   ]
  },
  {
   "cell_type": "code",
   "execution_count": null,
   "metadata": {},
   "outputs": [],
   "source": [
    "import os\n",
    "from dotenv import load_dotenv\n",
    "\n",
    "load_dotenv(override=True)\n",
    "\n",
    "\n",
    "OPENAI_API_TYPE = \"YOUR_API_TYPE\"\n",
    "OPENAI_API_VERSION = \"YOUR_API_VERSION\"\n",
    "AZURE_OPENAI_ENDPOINT = \"YOUR_ENDPOINT\"\n",
    "AZURE_OPENAI_LLM_DEPLOYMENT_NAME = \"YOUR_LLM_DEPLOYMENT_NAME\"\n",
    "AZURE_OPENAI_LLM_MODEL_NAME = \"YOUR_LLM_MODEL_NAME\"\n",
    "AZURE_OPENAI_EMBEDDING_DEPLOYMENT_NAME = \"YOUR_EMBEDDING_DEPLOYMENT_NAME\"\n",
    "AZURE_OPENAI_EMBEDDING_MODEL_NAME = \"YOUR_EMBEDDING_MODEL_NAME\"\n",
    "OPENAI_API_KEY = \"YOUR_API_KEY\"\n",
    "\n",
    "CONFLUENCE_TOKEN = \"YOUR_CONFLUENCE_TOKEN\"\n",
    "\n",
    "COSMOSDB_VCORE_CONNECTION_STRING = \"YOUR_COSMOSDB_VCORE_CONNECTION_STRING\"\n",
    "COSMOSDB_NAMESPACE = \"YOUR_COSMOSDB_NAMESPACE\""
   ]
  },
  {
   "cell_type": "code",
   "execution_count": null,
   "metadata": {},
   "outputs": [],
   "source": [
    "from langchain.document_loaders import ConfluenceLoader\n",
    "import pytesseract\n",
    "\n",
    "# This section uses internal Confluence documents and cannot be shared.\n",
    "# Replace this loader with your own Confluence space or another document source.\n",
    "\n",
    "\n",
    "loader = ConfluenceLoader(\n",
    "    url=\"https://your-confluence-domain.com\",\n",
    "    token=CONFLUENCE_TOKEN\n",
    ")\n",
    "\n",
    "confluence_documents = loader.load(\n",
    "    space_key=\"SDV\", \n",
    "    include_attachments=True, \n",
    "    limit=20,\n",
    "    max_pages=1000,\n",
    ")\n",
    "\n",
    "print(confluence_documents[1])\n",
    "print(f'{len(confluence_documents)} documents read from Confluence.')"
   ]
  },
  {
   "cell_type": "markdown",
   "metadata": {},
   "source": [
    "In previous settings 3592 chunks of size 3592 were generated."
   ]
  },
  {
   "cell_type": "code",
   "execution_count": null,
   "metadata": {},
   "outputs": [],
   "source": [
    "from langchain.text_splitter import RecursiveCharacterTextSplitter\n",
    "\n",
    "# https://js.langchain.com/docs/modules/data_connection/document_transformers/#get-started-with-text-splitters\n",
    "# How to chunk: https://www.pinecone.io/learn/chunking-strategies/\n",
    "text_splitter = RecursiveCharacterTextSplitter(\n",
    "    chunk_size = 1024, \n",
    "    chunk_overlap = 200,\n",
    "    length_function = len)\n",
    "\n",
    "splitted_documents = text_splitter.split_documents(confluence_documents)\n",
    "\n",
    "print(f'{len(splitted_documents)} chunks generated.')"
   ]
  },
  {
   "cell_type": "code",
   "execution_count": null,
   "metadata": {},
   "outputs": [],
   "source": [
    "# Embeddings by OpenAI\n",
    "from langchain_openai import AzureOpenAIEmbeddings\n",
    "\n",
    "# https://api.python.langchain.com/en/latest/embeddings/langchain_openai.embeddings.azure.AzureOpenAIEmbeddings.html\n",
    "openai_embeddings = AzureOpenAIEmbeddings(\n",
    "    azure_deployment=AZURE_OPENAI_EMBEDDING_DEPLOYMENT_NAME,\n",
    "    openai_api_version=OPENAI_API_VERSION,\n",
    "    # https://learn.microsoft.com/en-us/azure/ai-services/openai/concepts/models#gpt-4-and-gpt-4-turbo-preview\n",
    "    model=AZURE_OPENAI_EMBEDDING_MODEL_NAME,\n",
    "    embedding_ctx_length=8191, # default\n",
    "    chunk_size= 1024 # Shall be the same value (ENV) as for the text embedding\n",
    ")"
   ]
  },
  {
   "cell_type": "code",
   "execution_count": null,
   "metadata": {},
   "outputs": [],
   "source": [
    "from langchain_community.vectorstores.azure_cosmos_db import (\n",
    "    AzureCosmosDBVectorSearch,\n",
    "    CosmosDBSimilarityType,\n",
    ")\n",
    "from pymongo import MongoClient\n",
    "\n",
    "from langchain.chat_models import AzureChatOpenAI\n",
    "from langchain.chains.qa_with_sources import load_qa_with_sources_chain\n",
    "\n",
    "from langchain.schema import HumanMessage, SystemMessage\n",
    "\n",
    "\n",
    "# LEARNINGS\n",
    "# 1) CosmosDB RU connection string needs to be pulled from Instance Connection String directly (not from the DB)\n",
    "# 2) Before connecting from local machine towards the DB make sure to open the firewall from Azure Portal (Networking)\n",
    "\n",
    "_indexName = 'km-index'\n",
    "_dbName, _collectionName = COSMOSDB_NAMESPACE.split(\".\")\n",
    "\n",
    "client: MongoClient = MongoClient(COSMOSDB_VCORE_CONNECTION_STRING)\n",
    "collection = client[_dbName][_collectionName]\n",
    "\n",
    "# Clean MongoDB collection before inserting new data\n",
    "collection.database.drop_collection(_collectionName)\n",
    "\n",
    "# Chunk Size Prediction LLM\n",
    "chunk_prediction_llm = AzureChatOpenAI(\n",
    "    azure_deployment=AZURE_OPENAI_LLM_DEPLOYMENT_NAME, \n",
    "    temperature=0, \n",
    ")\n"
   ]
  },
  {
   "cell_type": "markdown",
   "metadata": {},
   "source": [
    "*Smart Chunking:*\n",
    "\n",
    "\n",
    "*   The core innovation is the `split_documents_smartly` function.\n",
    "*   This function leverages a secondary LLM (`chunk_prediction_llm`) to analyze each Confluence page and predict an optimal chunk size based on its content.\n",
    "*   The prompt emphasizes capturing complete sentences, considers code/tables, and aims for a balanced chunk count.\n",
    "*   The predicted chunk size is then used with `RecursiveCharacterTextSplitter.from_tiktoken_encoder` to split the page into chunks.\n",
    "*   **Key Improvement:** This allows chunk sizes to vary per document, unlike the fixed 1024-token size used previously."
   ]
  },
  {
   "cell_type": "code",
   "execution_count": null,
   "metadata": {},
   "outputs": [],
   "source": [
    "def split_documents_smartly(documents, llm):\n",
    "    \"\"\"Splits Confluence documents into chunks using dynamic chunk size prediction.\"\"\"\n",
    "    splitted_chunks = []\n",
    "    for doc in documents:\n",
    "        page_content = doc.page_content  # Access the page_content directly\n",
    "        if not page_content:  # Handle cases where page_content is empty or None\n",
    "            continue\n",
    "\n",
    "        # Enhanced Prompt as a ChatMessage\n",
    "        messages = [\n",
    "            SystemMessage(\n",
    "                content=\"Analyze the following Confluence page and suggest an appropriate chunk size in tokens (between 100 and 1024) for splitting it into semantically meaningful chunks:\"\n",
    "            ),\n",
    "            HumanMessage(\n",
    "                content=f\"\"\"\n",
    "        Confluence Page Content (First 500 characters for brevity):\n",
    "        {page_content[:500]}\n",
    "\n",
    "        **Considerations:**\n",
    "        - Prioritize capturing complete sentences or meaningful phrases within a chunk.\n",
    "        - If the page contains code snippets or tables, consider smaller chunk sizes.\n",
    "        - Aim for a balance between capturing context and minimizing the number of chunks.\n",
    "        \"\"\"\n",
    "            ),\n",
    "        ]\n",
    "\n",
    "        response = llm(messages)\n",
    "        try:\n",
    "            chunk_size = int(response.content.strip())\n",
    "            chunk_size = max(100, min(1024, chunk_size))\n",
    "        except ValueError:\n",
    "            chunk_size = 512\n",
    "        \n",
    "        text_splitter = RecursiveCharacterTextSplitter.from_tiktoken_encoder(\n",
    "            chunk_size=chunk_size, chunk_overlap=200\n",
    "        )\n",
    "        chunks = text_splitter.split_documents([doc]) \n",
    "        splitted_chunks.extend(chunks)\n",
    "    return splitted_chunks\n"
   ]
  },
  {
   "cell_type": "markdown",
   "metadata": {},
   "source": [
    "*I took more than 5h to split documents:*"
   ]
  },
  {
   "cell_type": "code",
   "execution_count": null,
   "metadata": {},
   "outputs": [],
   "source": [
    "# Splitting documents\n",
    "splitted_documents = split_documents_smartly(confluence_documents, chunk_prediction_llm)"
   ]
  },
  {
   "cell_type": "markdown",
   "metadata": {},
   "source": [
    "*Chunks overview:*"
   ]
  },
  {
   "cell_type": "code",
   "execution_count": null,
   "metadata": {},
   "outputs": [],
   "source": [
    "print(f'{len(splitted_documents)} chunks generated.')"
   ]
  },
  {
   "cell_type": "code",
   "execution_count": null,
   "metadata": {},
   "outputs": [],
   "source": [
    "import tiktoken\n",
    "\n",
    "encoding = tiktoken.encoding_for_model(AZURE_OPENAI_LLM_MODEL_NAME)\n",
    "\n",
    "for doc in splitted_documents:\n",
    "    token_count = len(encoding.encode(doc.page_content))\n",
    "    print(f\"Document: {doc.metadata['title']}, Tokens: {token_count}\")"
   ]
  },
  {
   "cell_type": "markdown",
   "metadata": {},
   "source": [
    "*The smallest and the bigest chunk sizes:*"
   ]
  },
  {
   "cell_type": "code",
   "execution_count": null,
   "metadata": {},
   "outputs": [],
   "source": [
    "import tiktoken\n",
    "\n",
    "encoding = tiktoken.encoding_for_model(AZURE_OPENAI_LLM_MODEL_NAME)\n",
    "\n",
    "smallest_chunk = min(splitted_documents, key=lambda x: len(encoding.encode(x.page_content)))\n",
    "biggest_chunk = max(splitted_documents, key=lambda x: len(encoding.encode(x.page_content)))\n",
    "\n",
    "print(\"Smallest Chunk (Token Count):\")\n",
    "print(f\"  Content: {smallest_chunk.page_content}\")\n",
    "print(f\"  Tokens: {len(encoding.encode(smallest_chunk.page_content))}\")\n",
    "print(f\"  Metadata: {smallest_chunk.metadata}\")\n",
    "\n",
    "print(\"\\nBiggest Chunk (Token Count):\")\n",
    "print(f\"  Content: {biggest_chunk.page_content}\")\n",
    "print(f\"  Tokens: {len(encoding.encode(biggest_chunk.page_content))}\")\n",
    "print(f\"  Metadata: {biggest_chunk.metadata}\")\n"
   ]
  },
  {
   "cell_type": "code",
   "execution_count": null,
   "metadata": {},
   "outputs": [],
   "source": [
    "\n",
    "vectorstore = AzureCosmosDBVectorSearch.from_documents(\n",
    "    splitted_documents,\n",
    "    openai_embeddings,\n",
    "    collection=collection,\n",
    "    index_name=_indexName,\n",
    ")\n",
    "\n",
    "num_lists = 100\n",
    "dimensions = 1536\n",
    "similarity_algorithm = CosmosDBSimilarityType.COS\n",
    "\n",
    "vectorstore.create_index(num_lists, dimensions, similarity_algorithm)"
   ]
  },
  {
   "cell_type": "code",
   "execution_count": null,
   "metadata": {},
   "outputs": [],
   "source": [
    "from langchain.chat_models import AzureChatOpenAI\n",
    "from langchain.chains.qa_with_sources import load_qa_with_sources_chain\n",
    "\n",
    "\n",
    "# Setup of the LLM and the chain\n",
    "llm = AzureChatOpenAI(\n",
    "    azure_deployment=AZURE_OPENAI_LLM_DEPLOYMENT_NAME, \n",
    "    model=AZURE_OPENAI_LLM_MODEL_NAME,\n",
    "    temperature=0.8\n",
    ")\n",
    "\n",
    "chain = load_qa_with_sources_chain(\n",
    "    llm, \n",
    "    chain_type=\"stuff\")\n",
    "\n",
    "\n",
    "query = \"YOUR_EXAMPLE_QUESTION\"\n",
    "query1 = \"YOUR_EXAMPLE_QUESTION\"\n",
    "\n",
    "\n",
    "matching_docs = vectorstore.similarity_search(query)\n",
    "matching_docs1 = vectorstore.similarity_search(query1)\n",
    "\n",
    "answer = chain.run(input_documents=matching_docs, question=query)\n",
    "answer1 = chain.run(input_documents=matching_docs1, question=query1)\n",
    "\n",
    "print(query, \"\\n\", answer)\n",
    "print(query1, \"\\n\", answer1)\n"
   ]
  },
  {
   "cell_type": "markdown",
   "metadata": {},
   "source": [
    "**Observation:**\n",
    "\n",
    "The smart chunking strategy does not consistently produce larger chunks than the fixed 1024-token method. In fact, it creates both smaller and significantly larger chunks. The overall impact on chunk count and LLM usage costs will depend on the specific distribution of chunk sizes within your dataset. While there might be a reduction in the number of chunks, the presence of very large chunks could potentially negate or even worsen the cost savings.\n",
    "\n",
    "**Possible Explanations and Next Steps:**\n",
    "\n",
    "1. **Chunk Prediction LLM:** The secondary LLM responsible for predicting chunk sizes might not be performing optimally. It could be:\n",
    "   - Overestimating the complexity of some pages, leading to very small chunks.\n",
    "   - Underestimating the complexity of other pages, resulting in very large chunks.\n",
    "\n",
    "2. **Prompt Engineering:** The prompt used to guide the chunk prediction LLM might need refinement. It could be:\n",
    "   - Too vague, not providing enough constraints on the desired chunk size range.\n",
    "   - Too focused on specific elements (like sentences or code blocks), neglecting the overall document structure.\n",
    "\n",
    "3. **Data Characteristics:** The nature of Confluence pages could be a factor. If pages have a very diverse range of content types and complexity levels, it might be inherently difficult for any single chunking strategy to find an optimal balance."
   ]
  },
  {
   "cell_type": "code",
   "execution_count": null,
   "metadata": {},
   "outputs": [],
   "source": [
    "import matplotlib.pyplot as plt\n",
    "import numpy as np\n",
    "import tiktoken\n",
    "import pandas as pd\n",
    "\n",
    "\n",
    "encoding = tiktoken.encoding_for_model(AZURE_OPENAI_LLM_MODEL_NAME)\n",
    "\n",
    "\n",
    "def get_chunk_size(chunk):\n",
    "    return len(encoding.encode(chunk.page_content))\n",
    "\n",
    "chunk_sizes = [get_chunk_size(chunk) for chunk in splitted_documents]\n",
    "\n",
    "df = pd.DataFrame(\n",
    "    {\n",
    "        \"chunk_size\": chunk_sizes,\n",
    "        \"title\": [chunk.metadata[\"title\"] for chunk in splitted_documents],\n",
    "        \"source\": [chunk.metadata[\"source\"] for chunk in splitted_documents],\n",
    "    }\n",
    ")\n",
    "\n",
    "print(\"Summary Statistics:\")\n",
    "print(df[\"chunk_size\"].describe())\n",
    "print(\"\\n\")\n",
    "\n",
    "lower_threshold = 50  \n",
    "upper_threshold = 500  \n",
    "\n",
    "small_outliers = df[df[\"chunk_size\"] < lower_threshold]\n",
    "large_outliers = df[df[\"chunk_size\"] > upper_threshold]\n",
    "\n",
    "print(\"Small Outliers:\")\n",
    "print(small_outliers.head())\n",
    "print(\"\\n\")\n",
    "\n",
    "print(\"Large Outliers:\")\n",
    "print(large_outliers.head())\n",
    "print(\"\\n\")\n",
    "\n",
    "plt.figure(figsize=(10, 6))\n",
    "plt.hist(chunk_sizes, bins=30, edgecolor=\"k\", alpha=0.7)\n",
    "plt.xlabel(\"Chunk Size (Tokens)\")\n",
    "plt.ylabel(\"Frequency\")\n",
    "plt.title(\"Distribution of Chunk Sizes\")\n",
    "\n",
    "plt.axvline(lower_threshold, color=\"r\", linestyle=\"dashed\", linewidth=1)\n",
    "plt.axvline(upper_threshold, color=\"r\", linestyle=\"dashed\", linewidth=1)\n",
    "\n",
    "plt.show()\n"
   ]
  },
  {
   "attachments": {
    "image.png": {
     "image/png": "[encoded data removed]"
    }
   },
   "cell_type": "markdown",
   "metadata": {},
   "source": [
    "![image.png](attachment:image.png)"
   ]
  }
 ],
 "metadata": {
  "kernelspec": {
   "display_name": "Python 3",
   "language": "python",
   "name": "python3"
  },
  "language_info": {
   "codemirror_mode": {
    "name": "ipython",
    "version": 3
   },
   "file_extension": ".py",
   "mimetype": "text/x-python",
   "name": "python",
   "nbconvert_exporter": "python",
   "pygments_lexer": "ipython3",
   "version": "3.11.7"
  }
 },
 "nbformat": 4,
 "nbformat_minor": 2
}
